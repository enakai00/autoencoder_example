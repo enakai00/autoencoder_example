{
 "cells": [
  {
   "cell_type": "code",
   "execution_count": 1,
   "metadata": {
    "collapsed": false
   },
   "outputs": [
    {
     "data": {
      "text/plain": [
       "'1.3.0'"
      ]
     },
     "execution_count": 1,
     "metadata": {},
     "output_type": "execute_result"
    }
   ],
   "source": [
    "import tensorflow as tf\n",
    "tf.__version__"
   ]
  },
  {
   "cell_type": "code",
   "execution_count": 2,
   "metadata": {
    "collapsed": false
   },
   "outputs": [],
   "source": [
    "import subprocess\n",
    "PROJECT = subprocess.Popen(\n",
    "    'gcloud config list project --format \"value(core.project)\"',\n",
    "    stdout=subprocess.PIPE, shell=True).stdout.read().rstrip()\n",
    "BUCKET='gs://{}-mnist'.format(PROJECT)\n",
    "OUTDIR='/tmp/trained_model'"
   ]
  },
  {
   "cell_type": "code",
   "execution_count": 3,
   "metadata": {
    "collapsed": false
   },
   "outputs": [],
   "source": [
    "from __future__ import absolute_import\n",
    "from __future__ import division\n",
    "from __future__ import print_function\n",
    "\n",
    "import os, shutil\n",
    "\n",
    "import matplotlib.pyplot as plt\n",
    "import numpy as np\n",
    "\n",
    "import tensorflow as tf\n",
    "from tensorflow.python.estimator.model_fn import ModeKeys as Modes\n",
    "from tensorflow.contrib.learn import Experiment\n",
    "from tensorflow.contrib.learn.python.learn import learn_runner\n",
    "from tensorflow.contrib.learn.python.learn.utils import (saved_model_export_utils)\n",
    "\n",
    "\n",
    "tf.logging.set_verbosity(tf.logging.INFO)\n",
    "\n",
    "\n",
    "def read_and_decode(filename_queue):\n",
    "    reader = tf.TFRecordReader()\n",
    "    _, serialized_example = reader.read(filename_queue)\n",
    "\n",
    "    features = tf.parse_single_example(\n",
    "        serialized_example,\n",
    "        features={\n",
    "            'image_raw': tf.FixedLenFeature([], tf.string),\n",
    "            'label': tf.FixedLenFeature([], tf.int64),\n",
    "        })\n",
    "\n",
    "    image = tf.decode_raw(features['image_raw'], tf.uint8)\n",
    "    image.set_shape([784])\n",
    "    image = tf.cast(image, tf.float32) * (1. / 255)\n",
    "    label = tf.cast(features['label'], tf.int32)\n",
    "\n",
    "    return image, label\n",
    "\n",
    "\n",
    "def input_fn(filename, batch_size=100):\n",
    "    filename_queue = tf.train.string_input_producer([filename])\n",
    "\n",
    "    image, label = read_and_decode(filename_queue)\n",
    "    images, labels = tf.train.batch(\n",
    "        [image, label], batch_size=batch_size,\n",
    "        capacity=1000 + 3 * batch_size)\n",
    "\n",
    "    return {'inputs': images}, labels\n",
    "\n",
    "\n",
    "def get_input_fn(filename, batch_size=100):\n",
    "    return lambda: input_fn(filename, batch_size)\n",
    "\n",
    "\n",
    "def serving_input_fn():\n",
    "    inputs = {'inputs': tf.placeholder(tf.float32, [None, 784])}\n",
    "    return tf.estimator.export.ServingInputReceiver(inputs, inputs)"
   ]
  },
  {
   "cell_type": "code",
   "execution_count": 4,
   "metadata": {
    "collapsed": false
   },
   "outputs": [],
   "source": [
    "def autoencoder_model_fn(features, labels, mode):\n",
    "\n",
    "##############\n",
    "# MODEL PART #\n",
    "##############\n",
    "    input_layer = features['inputs'] # 784 pixels\n",
    "    dense1 = tf.layers.dense(inputs=input_layer, units=256, activation=tf.nn.relu)\n",
    "    dense2 = tf.layers.dense(inputs=dense1, units=128, activation=tf.nn.relu)\n",
    "    dense3 = tf.layers.dense(inputs=dense2, units=16, activation=tf.nn.relu)\n",
    "    dense4 = tf.layers.dense(inputs=dense3, units=128, activation=tf.nn.relu)\n",
    "    dense5 = tf.layers.dense(inputs=dense4, units=256, activation=tf.nn.relu)\n",
    "    output_layer = tf.layers.dense(inputs=dense5, units=784, activation=tf.nn.sigmoid)\n",
    "##############\n",
    "\n",
    "    # Define operations\n",
    "    if mode in (Modes.TRAIN, Modes.EVAL):\n",
    "        global_step = tf.contrib.framework.get_or_create_global_step()\n",
    "        label_indices = tf.cast(labels, tf.int32)\n",
    "        loss = tf.reduce_sum(tf.square(output_layer - input_layer))\n",
    "        tf.summary.scalar('OptimizeLoss', loss)\n",
    "\n",
    "    if mode == Modes.PREDICT:\n",
    "        predictions = {\n",
    "            'outputs': output_layer\n",
    "        }\n",
    "        export_outputs = {\n",
    "            'outputs': tf.estimator.export.PredictOutput(predictions)\n",
    "        }\n",
    "        return tf.estimator.EstimatorSpec(\n",
    "            mode, predictions=predictions, export_outputs=export_outputs)\n",
    "\n",
    "    if mode == Modes.TRAIN:\n",
    "        optimizer = tf.train.AdamOptimizer(learning_rate=0.001)\n",
    "        train_op = optimizer.minimize(loss, global_step=global_step)\n",
    "        return tf.estimator.EstimatorSpec(mode, loss=loss, train_op=train_op)\n",
    "\n",
    "    if mode == Modes.EVAL:\n",
    "        eval_metric_ops = None\n",
    "        return tf.estimator.EstimatorSpec(\n",
    "            mode, loss=loss, eval_metric_ops=eval_metric_ops)"
   ]
  },
  {
   "cell_type": "code",
   "execution_count": 5,
   "metadata": {
    "collapsed": true
   },
   "outputs": [],
   "source": [
    "def build_estimator(model_dir):\n",
    "    return tf.estimator.Estimator(\n",
    "        model_fn=autoencoder_model_fn,\n",
    "        model_dir=model_dir,\n",
    "        config=tf.contrib.learn.RunConfig(save_checkpoints_secs=180))\n",
    "\n",
    "def generate_experiment_fn(data_dir,\n",
    "                           train_batch_size=100,\n",
    "                           eval_batch_size=100,\n",
    "                           train_steps=1000,\n",
    "                           eval_steps=1,\n",
    "                           **experiment_args):\n",
    "\n",
    "  def _experiment_fn(output_dir):\n",
    "    return Experiment(\n",
    "        build_estimator(output_dir),\n",
    "        train_input_fn=get_input_fn(\n",
    "            filename=os.path.join(data_dir, 'train.tfrecords'),\n",
    "            batch_size=train_batch_size),\n",
    "        eval_input_fn=get_input_fn(\n",
    "            filename=os.path.join(data_dir, 'test.tfrecords'),\n",
    "            batch_size=eval_batch_size),\n",
    "        export_strategies=[saved_model_export_utils.make_export_strategy(\n",
    "            serving_input_fn,\n",
    "            default_output_alternative_key=None,\n",
    "            exports_to_keep=1)],\n",
    "        train_steps=train_steps,\n",
    "        eval_steps=eval_steps,\n",
    "        **experiment_args\n",
    "    )\n",
    "  return _experiment_fn"
   ]
  },
  {
   "cell_type": "code",
   "execution_count": 6,
   "metadata": {
    "collapsed": false
   },
   "outputs": [
    {
     "name": "stdout",
     "output_type": "stream",
     "text": [
      "INFO:tensorflow:Using config: {'_save_checkpoints_secs': 180, '_num_ps_replicas': 0, '_keep_checkpoint_max': 5, '_task_type': None, '_is_chief': True, '_cluster_spec': <tensorflow.python.training.server_lib.ClusterSpec object at 0x7fae16927690>, '_model_dir': '/tmp/trained_model', '_save_checkpoints_steps': None, '_keep_checkpoint_every_n_hours': 10000, '_session_config': None, '_tf_random_seed': None, '_save_summary_steps': 100, '_environment': 'local', '_num_worker_replicas': 0, '_task_id': 0, '_log_step_count_steps': 100, '_tf_config': gpu_options {\n",
      "  per_process_gpu_memory_fraction: 1.0\n",
      "}\n",
      ", '_evaluation_master': '', '_master': ''}\n",
      "WARNING:tensorflow:From /usr/local/lib/python2.7/dist-packages/tensorflow/contrib/learn/python/learn/monitors.py:269: __init__ (from tensorflow.contrib.learn.python.learn.monitors) is deprecated and will be removed after 2016-12-05.\n",
      "Instructions for updating:\n",
      "Monitors are deprecated. Please use tf.train.SessionRunHook.\n",
      "INFO:tensorflow:Create CheckpointSaverHook.\n",
      "INFO:tensorflow:Saving checkpoints for 1 into /tmp/trained_model/model.ckpt.\n",
      "INFO:tensorflow:Starting evaluation at 2017-08-19-02:00:32\n",
      "INFO:tensorflow:Restoring parameters from /tmp/trained_model/model.ckpt-1\n",
      "INFO:tensorflow:Evaluation [1/1]\n",
      "INFO:tensorflow:Finished evaluation at 2017-08-19-02:00:32\n",
      "INFO:tensorflow:Saving dict for global step 1: global_step = 1, loss = 18136.5\n",
      "INFO:tensorflow:Validation (step 1): loss = 18136.5, global_step = 1\n",
      "INFO:tensorflow:loss = 18124.9, step = 1\n",
      "INFO:tensorflow:global_step/sec: 40.3742\n",
      "INFO:tensorflow:loss = 4492.1, step = 101 (1.730 sec)\n",
      "INFO:tensorflow:global_step/sec: 45.7821\n",
      "INFO:tensorflow:loss = 3712.18, step = 201 (2.184 sec)\n",
      "INFO:tensorflow:global_step/sec: 46.0684\n",
      "INFO:tensorflow:loss = 2915.09, step = 301 (2.170 sec)\n",
      "INFO:tensorflow:global_step/sec: 46.3717\n",
      "INFO:tensorflow:loss = 2725.95, step = 401 (2.158 sec)\n",
      "INFO:tensorflow:global_step/sec: 45.6025\n",
      "INFO:tensorflow:loss = 2359.31, step = 501 (2.192 sec)\n",
      "INFO:tensorflow:global_step/sec: 44.3089\n",
      "INFO:tensorflow:loss = 2102.14, step = 601 (2.257 sec)\n",
      "INFO:tensorflow:global_step/sec: 44.6331\n",
      "INFO:tensorflow:loss = 2098.5, step = 701 (2.240 sec)\n",
      "INFO:tensorflow:global_step/sec: 45.5831\n",
      "INFO:tensorflow:loss = 2080.92, step = 801 (2.195 sec)\n",
      "INFO:tensorflow:global_step/sec: 46.5847\n",
      "INFO:tensorflow:loss = 1749.15, step = 901 (2.147 sec)\n",
      "INFO:tensorflow:global_step/sec: 46.6026\n",
      "INFO:tensorflow:loss = 1708.96, step = 1001 (2.145 sec)\n",
      "INFO:tensorflow:global_step/sec: 45.1381\n",
      "INFO:tensorflow:loss = 1637.14, step = 1101 (2.220 sec)\n",
      "INFO:tensorflow:global_step/sec: 43.9429\n",
      "INFO:tensorflow:loss = 1570.04, step = 1201 (2.273 sec)\n",
      "INFO:tensorflow:global_step/sec: 45.2407\n",
      "INFO:tensorflow:loss = 1531.58, step = 1301 (2.208 sec)\n",
      "INFO:tensorflow:global_step/sec: 44.5444\n",
      "INFO:tensorflow:loss = 1498.52, step = 1401 (2.247 sec)\n",
      "INFO:tensorflow:global_step/sec: 43.9373\n",
      "INFO:tensorflow:loss = 1485.31, step = 1501 (2.275 sec)\n",
      "INFO:tensorflow:global_step/sec: 45.9513\n",
      "INFO:tensorflow:loss = 1485.79, step = 1601 (2.175 sec)\n",
      "INFO:tensorflow:global_step/sec: 44.8571\n",
      "INFO:tensorflow:loss = 1444.94, step = 1701 (2.229 sec)\n",
      "INFO:tensorflow:global_step/sec: 45.8919\n",
      "INFO:tensorflow:loss = 1414.13, step = 1801 (2.180 sec)\n",
      "INFO:tensorflow:global_step/sec: 46.4325\n",
      "INFO:tensorflow:loss = 1535.64, step = 1901 (2.154 sec)\n",
      "INFO:tensorflow:Saving checkpoints for 2000 into /tmp/trained_model/model.ckpt.\n",
      "INFO:tensorflow:Loss for final step: 1479.7.\n",
      "INFO:tensorflow:Starting evaluation at 2017-08-19-02:01:16\n",
      "INFO:tensorflow:Restoring parameters from /tmp/trained_model/model.ckpt-2000\n",
      "INFO:tensorflow:Evaluation [1/1]\n",
      "INFO:tensorflow:Finished evaluation at 2017-08-19-02:01:16\n",
      "INFO:tensorflow:Saving dict for global step 2000: global_step = 2000, loss = 1329.58\n",
      "INFO:tensorflow:Restoring parameters from /tmp/trained_model/model.ckpt-2000\n",
      "INFO:tensorflow:Assets added to graph.\n",
      "INFO:tensorflow:No assets to write.\n",
      "INFO:tensorflow:SavedModel written to: /tmp/trained_model/export/Servo/1503108076/saved_model.pb\n"
     ]
    },
    {
     "data": {
      "text/plain": [
       "({'global_step': 2000, 'loss': 1329.5811},\n",
       " ['/tmp/trained_model/export/Servo/1503108076'])"
      ]
     },
     "execution_count": 6,
     "metadata": {},
     "output_type": "execute_result"
    }
   ],
   "source": [
    "shutil.rmtree(OUTDIR, ignore_errors=True) # start fresh each time\n",
    "learn_runner.run(\n",
    "    generate_experiment_fn(\n",
    "        data_dir='{}/data'.format(BUCKET),\n",
    "        train_steps=2000),\n",
    "   OUTDIR)"
   ]
  },
  {
   "cell_type": "code",
   "execution_count": 7,
   "metadata": {
    "collapsed": false
   },
   "outputs": [
    {
     "name": "stdout",
     "output_type": "stream",
     "text": [
      "INFO:tensorflow:Restoring parameters from /tmp/trained_model/export/Servo/1503108076/variables/variables\n",
      "[u'inputs']\n",
      "[u'outputs']\n"
     ]
    }
   ],
   "source": [
    "export_dir = '{}/export/Servo/{}'.format(\n",
    "    OUTDIR, os.listdir('{}/export/Servo'.format(OUTDIR))[0]\n",
    ")\n",
    "tf.reset_default_graph()\n",
    "sess = tf.Session()\n",
    "meta_graph = tf.saved_model.loader.load(sess, [tf.saved_model.tag_constants.SERVING], export_dir)\n",
    "model_signature = meta_graph.signature_def['serving_default']\n",
    "input_signature = model_signature.inputs\n",
    "output_signature = model_signature.outputs\n",
    "\n",
    "print (input_signature.keys())\n",
    "print (output_signature.keys())"
   ]
  },
  {
   "cell_type": "code",
   "execution_count": 9,
   "metadata": {
    "collapsed": false
   },
   "outputs": [
    {
     "name": "stdout",
     "output_type": "stream",
     "text": [
      "Extracting /tmp/data/train-images-idx3-ubyte.gz\n",
      "Extracting /tmp/data/train-labels-idx1-ubyte.gz\n",
      "Extracting /tmp/data/t10k-images-idx3-ubyte.gz\n",
      "Extracting /tmp/data/t10k-labels-idx1-ubyte.gz\n"
     ]
    },
    {
     "data": {
      "image/png": "[encoded data removed]",
      "text/plain": [
       "<matplotlib.figure.Figure at 0x7fae016ca190>"
      ]
     },
     "metadata": {},
     "output_type": "display_data"
    }
   ],
   "source": [
    "from tensorflow.examples.tutorials.mnist import input_data\n",
    "\n",
    "mnist = input_data.read_data_sets(\"/tmp/data/\", one_hot=True)\n",
    "images, labels = mnist.test.images, mnist.test.labels\n",
    "\n",
    "feed_dict = {sess.graph.get_tensor_by_name(input_signature['inputs'].name): mnist.test.images[:10]}\n",
    "output = sess.graph.get_tensor_by_name(output_signature['outputs'].name)\n",
    "results = sess.run(output, feed_dict=feed_dict)\n",
    "\n",
    "fig = plt.figure(figsize=(4,15))\n",
    "for i in range(10):\n",
    "        subplot = fig.add_subplot(10,2,i*2+1)\n",
    "        subplot.set_xticks([])\n",
    "        subplot.set_yticks([])\n",
    "        subplot.imshow(images[i].reshape((28,28)), vmin=0, vmax=1,\n",
    "                       cmap=plt.cm.gray_r, interpolation=\"nearest\")\n",
    "        \n",
    "        subplot = fig.add_subplot(10,2,i*2+2)\n",
    "        subplot.set_xticks([])\n",
    "        subplot.set_yticks([])\n",
    "        subplot.imshow(results[i].reshape((28,28)), vmin=0, vmax=1,\n",
    "                       cmap=plt.cm.gray_r, interpolation=\"nearest\")"
   ]
  },
  {
   "cell_type": "code",
   "execution_count": 10,
   "metadata": {
    "collapsed": false
   },
   "outputs": [],
   "source": [
    "input_form = \"\"\"\n",
    "<table>\n",
    "<td style=\"border-style: none;\">\n",
    "<div style=\"border: solid 2px #666; width: 143px; height: 144px;\">\n",
    "<canvas width=\"140\" height=\"140\"></canvas>\n",
    "</div></td>\n",
    "<td style=\"border-style: none;\">\n",
    "<button onclick=\"clear_value()\">Clear</button>\n",
    "</td>\n",
    "</table>\n",
    "\"\"\"\n",
    "\n",
    "javascript = \"\"\"\n",
    "<script type=\"text/Javascript\">\n",
    "    var pixels = [];\n",
    "    for (var i = 0; i < 28*28; i++) pixels[i] = 0\n",
    "    var click = 0;\n",
    "\n",
    "    var canvas = document.querySelector(\"canvas\");\n",
    "    canvas.addEventListener(\"mousemove\", function(e){\n",
    "        if (e.buttons == 1) {\n",
    "            click = 1;\n",
    "            canvas.getContext(\"2d\").fillStyle = \"rgb(0,0,0)\";\n",
    "            canvas.getContext(\"2d\").fillRect(e.offsetX, e.offsetY, 8, 8);\n",
    "            x = Math.floor(e.offsetY * 0.2)\n",
    "            y = Math.floor(e.offsetX * 0.2) + 1\n",
    "            for (var dy = 0; dy < 2; dy++){\n",
    "                for (var dx = 0; dx < 2; dx++){\n",
    "                    if ((x + dx < 28) && (y + dy < 28)){\n",
    "                        pixels[(y+dy)+(x+dx)*28] = 1\n",
    "                    }\n",
    "                }\n",
    "            }\n",
    "        } else {\n",
    "            if (click == 1) set_value()\n",
    "            click = 0;\n",
    "        }\n",
    "    });\n",
    "    \n",
    "    function set_value(){\n",
    "        var result = \"\"\n",
    "        for (var i = 0; i < 28*28; i++) result += pixels[i] + \",\"\n",
    "        var kernel = IPython.notebook.kernel;\n",
    "        kernel.execute(\"image = [\" + result + \"]\");\n",
    "    }\n",
    "    \n",
    "    function clear_value(){\n",
    "        canvas.getContext(\"2d\").fillStyle = \"rgb(255,255,255)\";\n",
    "        canvas.getContext(\"2d\").fillRect(0, 0, 140, 140);\n",
    "        for (var i = 0; i < 28*28; i++) pixels[i] = 0\n",
    "    }\n",
    "</script>\n",
    "\"\"\""
   ]
  },
  {
   "cell_type": "code",
   "execution_count": 11,
   "metadata": {
    "collapsed": false
   },
   "outputs": [
    {
     "data": {
      "text/html": [
       "\n",
       "<table>\n",
       "<td style=\"border-style: none;\">\n",
       "<div style=\"border: solid 2px #666; width: 143px; height: 144px;\">\n",
       "<canvas width=\"140\" height=\"140\"></canvas>\n",
       "</div></td>\n",
       "<td style=\"border-style: none;\">\n",
       "<button onclick=\"clear_value()\">Clear</button>\n",
       "</td>\n",
       "</table>\n",
       "\n",
       "<script type=\"text/Javascript\">\n",
       "    var pixels = [];\n",
       "    for (var i = 0; i < 28*28; i++) pixels[i] = 0\n",
       "    var click = 0;\n",
       "\n",
       "    var canvas = document.querySelector(\"canvas\");\n",
       "    canvas.addEventListener(\"mousemove\", function(e){\n",
       "        if (e.buttons == 1) {\n",
       "            click = 1;\n",
       "            canvas.getContext(\"2d\").fillStyle = \"rgb(0,0,0)\";\n",
       "            canvas.getContext(\"2d\").fillRect(e.offsetX, e.offsetY, 8, 8);\n",
       "            x = Math.floor(e.offsetY * 0.2)\n",
       "            y = Math.floor(e.offsetX * 0.2) + 1\n",
       "            for (var dy = 0; dy < 2; dy++){\n",
       "                for (var dx = 0; dx < 2; dx++){\n",
       "                    if ((x + dx < 28) && (y + dy < 28)){\n",
       "                        pixels[(y+dy)+(x+dx)*28] = 1\n",
       "                    }\n",
       "                }\n",
       "            }\n",
       "        } else {\n",
       "            if (click == 1) set_value()\n",
       "            click = 0;\n",
       "        }\n",
       "    });\n",
       "    \n",
       "    function set_value(){\n",
       "        var result = \"\"\n",
       "        for (var i = 0; i < 28*28; i++) result += pixels[i] + \",\"\n",
       "        var kernel = IPython.notebook.kernel;\n",
       "        kernel.execute(\"image = [\" + result + \"]\");\n",
       "    }\n",
       "    \n",
       "    function clear_value(){\n",
       "        canvas.getContext(\"2d\").fillStyle = \"rgb(255,255,255)\";\n",
       "        canvas.getContext(\"2d\").fillRect(0, 0, 140, 140);\n",
       "        for (var i = 0; i < 28*28; i++) pixels[i] = 0\n",
       "    }\n",
       "</script>\n"
      ],
      "text/plain": [
       "<IPython.core.display.HTML object>"
      ]
     },
     "execution_count": 11,
     "metadata": {},
     "output_type": "execute_result"
    }
   ],
   "source": [
    "from IPython.display import HTML\n",
    "HTML(input_form + javascript)"
   ]
  },
  {
   "cell_type": "code",
   "execution_count": 12,
   "metadata": {
    "collapsed": false
   },
   "outputs": [
    {
     "data": {
      "text/plain": [
       "<matplotlib.image.AxesImage at 0x7fae02f57290>"
      ]
     },
     "execution_count": 12,
     "metadata": {},
     "output_type": "execute_result"
    },
    {
     "data": {
      "image/png": "[encoded data removed]",
      "text/plain": [
       "<matplotlib.figure.Figure at 0x7fade279c910>"
      ]
     },
     "metadata": {},
     "output_type": "display_data"
    }
   ],
   "source": [
    "feed_dict = {sess.graph.get_tensor_by_name(input_signature['inputs'].name): [image]}\n",
    "output = sess.graph.get_tensor_by_name(output_signature['outputs'].name)\n",
    "results = sess.run(output, feed_dict=feed_dict)\n",
    "fig = plt.figure(figsize=(6,3))\n",
    "subplot = fig.add_subplot(1,2,1)\n",
    "subplot.set_xticks([])\n",
    "subplot.set_yticks([])\n",
    "subplot.imshow(np.array(image).reshape((28,28)), vmin=0, vmax=1,\n",
    "               cmap=plt.cm.gray_r)#, interpolation=\"nearest\")\n",
    "subplot = fig.add_subplot(1,2,2)\n",
    "subplot.set_xticks([])\n",
    "subplot.set_yticks([])\n",
    "subplot.imshow(results[0].reshape((28,28)), vmin=0, vmax=1,\n",
    "               cmap=plt.cm.gray_r)#, interpolation=\"nearest\")"
   ]
  }
 ],
 "metadata": {
  "kernelspec": {
   "display_name": "Python 2",
   "language": "python",
   "name": "python2"
  },
  "language_info": {
   "codemirror_mode": {
    "name": "ipython",
    "version": 2
   },
   "file_extension": ".py",
   "mimetype": "text/x-python",
   "name": "python",
   "nbconvert_exporter": "python",
   "pygments_lexer": "ipython2",
   "version": "2.7.9"
  }
 },
 "nbformat": 4,
 "nbformat_minor": 2
}
